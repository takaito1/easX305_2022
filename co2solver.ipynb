{
 "cells": [
  {
   "cell_type": "code",
   "execution_count": 1,
   "id": "dfd2d820-461b-4922-a22a-d9d868857d0a",
   "metadata": {},
   "outputs": [],
   "source": [
    "import numpy as np\n",
    "import PyCO2SYS as pyco2"
   ]
  },
  {
   "cell_type": "markdown",
   "id": "749861c3-f20a-4343-be8b-2a218b6c300e",
   "metadata": {},
   "source": [
    "# equilibrium carbonate chemistry solver"
   ]
  },
  {
   "cell_type": "code",
   "execution_count": 2,
   "id": "391b0570-98af-4300-8199-32b59984ebb1",
   "metadata": {},
   "outputs": [],
   "source": [
    "# input variables (T,S)\n",
    "T = 10.0\n",
    "S = 35.0"
   ]
  },
  {
   "cell_type": "code",
   "execution_count": 3,
   "id": "3af6d7ca-3761-4a83-91cf-97af81fc14bc",
   "metadata": {},
   "outputs": [],
   "source": [
    "# input variables (DIC and Alk)\n",
    "DIC=1900\n",
    "Alk=2100"
   ]
  },
  {
   "cell_type": "code",
   "execution_count": 4,
   "id": "6a842673-0a10-485f-9c52-5a97b164de17",
   "metadata": {},
   "outputs": [],
   "source": [
    "kwargs={'temperature':T,'salinity':S}\n",
    "results = pyco2.sys(par1=DIC, par2=Alk, par1_type=2, par2_type=1, **kwargs)"
   ]
  },
  {
   "cell_type": "code",
   "execution_count": 5,
   "id": "f5d75607-cc95-4dab-a238-d63b3c32f8eb",
   "metadata": {},
   "outputs": [
    {
     "data": {
      "text/plain": [
       "{'par1': 1900.0,\n",
       " 'par1_type': array(2),\n",
       " 'par2': 2100.0,\n",
       " 'par2_type': array(1),\n",
       " 'alkalinity': 2100.0,\n",
       " 'dic': 1900.0,\n",
       " 'opt_k_bisulfate': 1,\n",
       " 'opt_k_carbonic': 16,\n",
       " 'opt_k_fluoride': 1,\n",
       " 'opt_total_borate': 1,\n",
       " 'opt_gas_constant': 3,\n",
       " 'opt_pH_scale': 1,\n",
       " 'opt_buffers_mode': 1,\n",
       " 'salinity': array(35.),\n",
       " 'temperature': 10.0,\n",
       " 'pressure': 0.0,\n",
       " 'total_ammonia': 0.0,\n",
       " 'total_borate': 415.70000000000005,\n",
       " 'total_calcium': 10284.569700849725,\n",
       " 'total_fluoride': 68.32583968836728,\n",
       " 'total_phosphate': 0.0,\n",
       " 'total_silicate': 0.0,\n",
       " 'total_sulfate': 28235.434132860122,\n",
       " 'total_sulfide': 0.0,\n",
       " 'peng_correction': 0.0,\n",
       " 'gas_constant': array(83.14462618),\n",
       " 'total_alpha': 0.0,\n",
       " 'total_beta': 0.0,\n",
       " 'pressure_atmosphere': 1.0,\n",
       " 'pressure_atmosphere_out': 1.0,\n",
       " 'pH': 8.117864464643414,\n",
       " 'pCO2': 307.0198749253081,\n",
       " 'fCO2': 305.8378858661854,\n",
       " 'bicarbonate': 1749.488118538654,\n",
       " 'carbonate': 137.09193095767063,\n",
       " 'aqueous_CO2': 13.419950503675524,\n",
       " 'xCO2': 310.7102931984483,\n",
       " 'alkalinity_borate': 74.44905287388744,\n",
       " 'hydroxide': 1.8867334425782596,\n",
       " 'alkalinity_phosphate': 0.0,\n",
       " 'alkalinity_silicate': 0.0,\n",
       " 'alkalinity_ammonia': 0.0,\n",
       " 'alkalinity_sulfide': 0.0,\n",
       " 'hydrogen_free': 0.006594889672169643,\n",
       " 'revelle_factor': 11.48995147371998,\n",
       " 'saturation_calcite': 3.265641135828943,\n",
       " 'saturation_aragonite': 2.077065147740074,\n",
       " 'pH_total': 8.117864464643414,\n",
       " 'pH_sws': 8.109759510814945,\n",
       " 'pH_free': 8.180792465495738,\n",
       " 'pH_nbs': 8.222678409125988,\n",
       " 'gamma_dic': 0.00016536188201888525,\n",
       " 'beta_dic': 0.00019291528521593376,\n",
       " 'omega_dic': -0.00023148673366287786,\n",
       " 'gamma_alk': -0.00019291528521593352,\n",
       " 'beta_alk': -0.00020547224068040822,\n",
       " 'omega_alk': 0.00021977768351171638,\n",
       " 'isocapnic_quotient': 1.166624876668384,\n",
       " 'isocapnic_quotient_approx': 1.1695501927920384,\n",
       " 'psi': 0.7143471221971078,\n",
       " 'substrate_inhibitor_ratio': 0.2652793610667175,\n",
       " 'alkalinity_alpha': 0.0,\n",
       " 'alkalinity_beta': 0.0,\n",
       " 'HCO3': 1749.488118538654,\n",
       " 'CO3': 137.09193095767063,\n",
       " 'CO2': 13.419950503675443,\n",
       " 'BOH4': 74.44905287388744,\n",
       " 'BOH3': 341.2509471261126,\n",
       " 'OH': 1.8867334425782596,\n",
       " 'Hfree': 0.006594889672169643,\n",
       " 'H3PO4': 0.0,\n",
       " 'H2PO4': 0.0,\n",
       " 'HPO4': 0.0,\n",
       " 'PO4': 0.0,\n",
       " 'H3SiO4': 0.0,\n",
       " 'H4SiO4': 0.0,\n",
       " 'NH3': 0.0,\n",
       " 'NH4': 0.0,\n",
       " 'HS': 0.0,\n",
       " 'H2S': 0.0,\n",
       " 'HSO4': 0.001028279070854717,\n",
       " 'SO4': 28235.433104581054,\n",
       " 'HF': 0.00014360171801372376,\n",
       " 'F': 68.32569608664926,\n",
       " 'alpha': 0.0,\n",
       " 'alphaH': 0.0,\n",
       " 'beta': 0.0,\n",
       " 'betaH': 0.0,\n",
       " 'k_CO2': 0.043879293978466696,\n",
       " 'k_carbonic_1': 9.93792279889464e-07,\n",
       " 'k_carbonic_2': 5.973604033413638e-10,\n",
       " 'k_water': 1.4382887476535552e-14,\n",
       " 'k_borate': 1.6631095104161243e-09,\n",
       " 'k_bisulfate': 0.18108855022776935,\n",
       " 'k_fluoride': 0.003137848444282414,\n",
       " 'k_phosphoric_1': 0.024921523777215817,\n",
       " 'k_phosphoric_2': 8.134614913235758e-07,\n",
       " 'k_phosphoric_3': 7.219066500854228e-10,\n",
       " 'k_silicate': 2.1922935417294576e-10,\n",
       " 'k_ammonia': 1.6687232901728555e-10,\n",
       " 'k_sulfide': 1.745110070318451e-07,\n",
       " 'k_calcite': array(4.31747231e-07),\n",
       " 'k_aragonite': array(6.78809483e-07),\n",
       " 'fugacity_factor': array(0.99615012),\n",
       " 'vp_factor': 0.9881226391467398,\n",
       " 'fH': array(0.77104744),\n",
       " 'k_alpha': 1e-07,\n",
       " 'k_beta': 1e-07}"
      ]
     },
     "execution_count": 5,
     "metadata": {},
     "output_type": "execute_result"
    }
   ],
   "source": [
    "results"
   ]
  },
  {
   "cell_type": "code",
   "execution_count": null,
   "id": "70664bba-31ff-49ca-8c4b-fd37400210fa",
   "metadata": {},
   "outputs": [],
   "source": []
  },
  {
   "cell_type": "code",
   "execution_count": null,
   "id": "9f382bc6-2648-44e0-8d02-1600805ce52e",
   "metadata": {},
   "outputs": [],
   "source": []
  },
  {
   "cell_type": "code",
   "execution_count": null,
   "id": "1f049741-d3b5-4008-91a6-345366b77236",
   "metadata": {},
   "outputs": [],
   "source": []
  }
 ],
 "metadata": {
  "kernelspec": {
   "display_name": "easX305_2022",
   "language": "python",
   "name": "easx305_2022"
  },
  "language_info": {
   "codemirror_mode": {
    "name": "ipython",
    "version": 3
   },
   "file_extension": ".py",
   "mimetype": "text/x-python",
   "name": "python",
   "nbconvert_exporter": "python",
   "pygments_lexer": "ipython3",
   "version": "3.9.13"
  }
 },
 "nbformat": 4,
 "nbformat_minor": 5
}
