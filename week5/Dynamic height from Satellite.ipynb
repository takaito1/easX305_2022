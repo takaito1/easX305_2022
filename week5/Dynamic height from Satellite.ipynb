{
 "cells": [
  {
   "cell_type": "markdown",
   "id": "e3bb1eb7",
   "metadata": {},
   "source": [
    "# Dynamic height from satellite observation"
   ]
  },
  {
   "cell_type": "code",
   "execution_count": null,
   "id": "0b57681b",
   "metadata": {},
   "outputs": [],
   "source": [
    "# this version uses xarray package\n",
    "import numpy as np\n",
    "import matplotlib.pyplot as plt\n",
    "import xarray as xr"
   ]
  },
  {
   "cell_type": "code",
   "execution_count": null,
   "id": "d6eab666",
   "metadata": {},
   "outputs": [],
   "source": [
    "# get SSH from AVISO satellite\n",
    "# read in netCDF\n",
    "df=xr.open_dataset('zos_AVISO_L4_clim.nc')\n",
    "df# shows the name of variables"
   ]
  },
  {
   "cell_type": "code",
   "execution_count": null,
   "id": "a437162b",
   "metadata": {},
   "outputs": [],
   "source": [
    "lat=df['lat']\n",
    "lon=df['lon']\n",
    "zos=df['zos']\n",
    "ssh0=np.mean(zos,axis=0)"
   ]
  },
  {
   "cell_type": "code",
   "execution_count": null,
   "id": "8ffc60a9",
   "metadata": {},
   "outputs": [],
   "source": [
    "# plot surface dynamic height wrt 2000 dbar\n",
    "plt.figure(figsize=(10,6))\n",
    "cnt=np.arange(-2,2,.1)\n",
    "plt.contourf(lon,lat,ssh0,cnt,cmap='jet')\n",
    "plt.colorbar()\n",
    "plt.contour(lon,lat,ssh0,cnt,linestyles='solid')\n",
    "plt.xlabel('long')\n",
    "plt.ylabel('lat')\n",
    "plt.title('Annual mean SSH (m) from AVISO satellite',fontsize=18)\n",
    "plt.show()"
   ]
  },
  {
   "cell_type": "code",
   "execution_count": null,
   "id": "c5f6aabb",
   "metadata": {},
   "outputs": [],
   "source": []
  },
  {
   "cell_type": "code",
   "execution_count": null,
   "id": "34b1f61d",
   "metadata": {},
   "outputs": [],
   "source": []
  }
 ],
 "metadata": {
  "kernelspec": {
   "display_name": "eas4305",
   "language": "python",
   "name": "eas4305"
  },
  "language_info": {
   "codemirror_mode": {
    "name": "ipython",
    "version": 3
   },
   "file_extension": ".py",
   "mimetype": "text/x-python",
   "name": "python",
   "nbconvert_exporter": "python",
   "pygments_lexer": "ipython3",
   "version": "3.8.13"
  }
 },
 "nbformat": 4,
 "nbformat_minor": 5
}
